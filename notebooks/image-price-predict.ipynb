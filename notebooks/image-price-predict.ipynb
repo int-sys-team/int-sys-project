{
 "cells": [
  {
   "cell_type": "code",
   "execution_count": null,
   "id": "f9df2afb",
   "metadata": {},
   "outputs": [],
   "source": [
    "import numpy as np\n",
    "import os\n",
    "import tensorflow as tf\n",
    "import pandas as pd\n",
    "import pathlib\n",
    "from PIL import Image\n",
    "import matplotlib.pyplot as plt\n",
    "\n",
    "from tensorflow.keras import layers"
   ]
  },
  {
   "cell_type": "code",
   "execution_count": null,
   "id": "4c5001e1",
   "metadata": {},
   "outputs": [],
   "source": [
    "def load_dataset(top_dir):\n",
    "    dataset = []\n",
    "    for i in range(len(df['price'])):\n",
    "        img_path = top_dir/f'{i}.jpg'\n",
    "        img = np.array(Image.open(img_path))\n",
    "        dataset.append(img)\n",
    "            \n",
    "    return np.array(dataset)"
   ]
  },
  {
   "cell_type": "code",
   "execution_count": null,
   "id": "363fd1de",
   "metadata": {},
   "outputs": [],
   "source": [
    "df = pd.read_csv('./AustinHousingData_Preprocessed.csv')\n",
    "imgs_dir = pathlib.Path('homeImagesProcessed')"
   ]
  },
  {
   "cell_type": "code",
   "execution_count": null,
   "id": "77fb39a0",
   "metadata": {
    "scrolled": true
   },
   "outputs": [],
   "source": [
    "X = load_dataset(imgs_dir)\n",
    "y = df['price']"
   ]
  },
  {
   "cell_type": "code",
   "execution_count": null,
   "id": "6aed2e79",
   "metadata": {},
   "outputs": [],
   "source": [
    "train_ds, testval_ds = tf.keras.utils.split_dataset((X,y), left_size=0.7)\n",
    "test_ds, val_ds = tf.keras.utils.split_dataset(testval_ds, left_size=0.5)"
   ]
  },
  {
   "cell_type": "code",
   "execution_count": null,
   "id": "b1558f6f",
   "metadata": {},
   "outputs": [],
   "source": [
    "IMG_SIZE = 128\n",
    "\n",
    "resize_and_rescale = tf.keras.Sequential([\n",
    "    layers.Resizing(IMG_SIZE, IMG_SIZE),\n",
    "    layers.Rescaling(1./255)\n",
    "])\n",
    "\n",
    "data_augmentation = tf.keras.Sequential([\n",
    "    layers.RandomFlip(\"horizontal\"),\n",
    "    layers.RandomRotation(0.1),\n",
    "    layers.RandomBrightness(0.4, value_range=(0,1)),\n",
    "    layers.RandomContrast(0.5),\n",
    "    layers.RandomTranslation(0.15,0.15),\n",
    "    layers.RandomZoom(0.2)\n",
    "])"
   ]
  },
  {
   "cell_type": "code",
   "execution_count": null,
   "id": "42364729",
   "metadata": {},
   "outputs": [],
   "source": [
    "result = data_augmentation(resize_and_rescale(X[0]))\n",
    "_ = plt.imshow(result)"
   ]
  }
 ],
 "metadata": {
  "kernelspec": {
   "display_name": "Python 3 (ipykernel)",
   "language": "python",
   "name": "python3"
  },
  "language_info": {
   "codemirror_mode": {
    "name": "ipython",
    "version": 3
   },
   "file_extension": ".py",
   "mimetype": "text/x-python",
   "name": "python",
   "nbconvert_exporter": "python",
   "pygments_lexer": "ipython3",
   "version": "3.8.10"
  }
 },
 "nbformat": 4,
 "nbformat_minor": 5
}
