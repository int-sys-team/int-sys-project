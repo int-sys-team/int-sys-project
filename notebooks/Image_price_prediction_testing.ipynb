{
  "nbformat": 4,
  "nbformat_minor": 0,
  "metadata": {
    "colab": {
      "provenance": [],
      "gpuType": "T4"
    },
    "kernelspec": {
      "name": "python3",
      "display_name": "Python 3"
    },
    "language_info": {
      "name": "python"
    },
    "accelerator": "GPU"
  },
  "cells": [
    {
      "cell_type": "code",
      "execution_count": 13,
      "metadata": {
        "id": "ISJZga65fRuM"
      },
      "outputs": [],
      "source": [
        "import torch\n",
        "import gdown\n",
        "import pandas as pd\n",
        "from torchvision import models, transforms\n",
        "from PIL import Image\n",
        "import torch.nn as nn\n",
        "import os"
      ]
    },
    {
      "cell_type": "code",
      "source": [
        "df = pd.read_csv(\"AustinHousingData_Preprocessed.csv\")"
      ],
      "metadata": {
        "id": "mb0yjyNnoOII"
      },
      "execution_count": 14,
      "outputs": []
    },
    {
      "cell_type": "code",
      "source": [
        "# Prikaz sadržaja ćelije u koloni homeImage i price za prvi red\n",
        "image_url_first_row = df.loc[0, 'homeImage']\n",
        "print(\"Sadržaj ćelije u koloni homeImage za prvi red:\", image_url_first_row)\n",
        "price_first_row = df.loc[0, 'price']\n",
        "print(\"Vrednost u koloni price za prvi red:\", price_first_row)"
      ],
      "metadata": {
        "colab": {
          "base_uri": "https://localhost:8080/"
        },
        "id": "3apZSGXGp3QP",
        "outputId": "e099353b-4bf8-435b-fc2e-1417aea293fe"
      },
      "execution_count": 15,
      "outputs": [
        {
          "output_type": "stream",
          "name": "stdout",
          "text": [
            "Sadržaj ćelije u koloni homeImage za prvi red: 116080992_83c089e97b4e96ecb01c3555fa8252d0-p_f.jpg\n",
            "Vrednost u koloni price za prvi red: 689225.7\n"
          ]
        }
      ]
    },
    {
      "cell_type": "code",
      "source": [
        "image_url_first_row = df.loc[1, 'homeImage']\n",
        "print(\"Sadržaj ćelije u koloni homeImage za drgi red:\", image_url_first_row)\n",
        "price_first_row = df.loc[1, 'price']\n",
        "print(\"Vrednost u koloni price za drugi red:\", price_first_row)"
      ],
      "metadata": {
        "colab": {
          "base_uri": "https://localhost:8080/"
        },
        "id": "B0FY-Zattik7",
        "outputId": "97ebe184-5e9c-4353-86d1-fd41ef8e8b08"
      },
      "execution_count": 16,
      "outputs": [
        {
          "output_type": "stream",
          "name": "stdout",
          "text": [
            "Sadržaj ćelije u koloni homeImage za drgi red: 88013985_6d4b35d2a232c42fcc863317f22401c7-p_f.jpg\n",
            "Vrednost u koloni price za drugi red: 409818.0\n"
          ]
        }
      ]
    },
    {
      "cell_type": "code",
      "source": [
        "image_url_first_row = df.loc[2, 'homeImage']\n",
        "print(\"Sadržaj ćelije u koloni homeImage za treci red:\", image_url_first_row)\n",
        "price_first_row = df.loc[2, 'price']\n",
        "print(\"Vrednost u koloni price za treci red:\", price_first_row)"
      ],
      "metadata": {
        "colab": {
          "base_uri": "https://localhost:8080/"
        },
        "id": "DEMyTqLUtiWa",
        "outputId": "d6447e4b-63dd-4187-ee9a-ea316e999b99"
      },
      "execution_count": 17,
      "outputs": [
        {
          "output_type": "stream",
          "name": "stdout",
          "text": [
            "Sadržaj ćelije u koloni homeImage za treci red: 70344594_3e29ab1c54a4a8ca80360911b9ac7434-p_f.jpg\n",
            "Vrednost u koloni price za treci red: 203229.6832022083\n"
          ]
        }
      ]
    },
    {
      "cell_type": "code",
      "source": [
        "image_url_first_row = df.loc[3, 'homeImage']\n",
        "print(\"Sadržaj ćelije u koloni homeImage za cetvrti red:\", image_url_first_row)\n",
        "price_first_row = df.loc[3, 'price']\n",
        "print(\"Vrednost u koloni price za cetvrti red:\", price_first_row)"
      ],
      "metadata": {
        "colab": {
          "base_uri": "https://localhost:8080/"
        },
        "id": "AGichauUu6jb",
        "outputId": "a260d5ef-da79-430d-91de-218e43d2d7f1"
      },
      "execution_count": 20,
      "outputs": [
        {
          "output_type": "stream",
          "name": "stdout",
          "text": [
            "Sadržaj ćelije u koloni homeImage za cetvrti red: 185217484_1f06634bc9d5424bc0f094f68ca72fe4-p_f.jpg\n",
            "Vrednost u koloni price za cetvrti red: 408501.87578333326\n"
          ]
        }
      ]
    },
    {
      "cell_type": "code",
      "source": [
        "image_url_first_row = df.loc[4, 'homeImage']\n",
        "print(\"Sadržaj ćelije u koloni homeImage za peti red:\", image_url_first_row)\n",
        "price_first_row = df.loc[4, 'price']\n",
        "print(\"Vrednost u koloni price za peti red:\", price_first_row)"
      ],
      "metadata": {
        "colab": {
          "base_uri": "https://localhost:8080/"
        },
        "id": "Liovp5D1u_3p",
        "outputId": "c2b61d84-bd3b-4042-c661-a9696767fc43"
      },
      "execution_count": 21,
      "outputs": [
        {
          "output_type": "stream",
          "name": "stdout",
          "text": [
            "Sadržaj ćelije u koloni homeImage za peti red: 116080981_b15ecd54b82b93b6af1408beb22e069f-p_f.jpg\n",
            "Vrednost u koloni price za peti red: 550999.8\n"
          ]
        }
      ]
    },
    {
      "cell_type": "code",
      "source": [
        "class ResNetRegression(nn.Module):\n",
        "    def __init__(self, input_channels=3):\n",
        "        super(ResNetRegression, self).__init__()\n",
        "        resnet = models.resnet50(pretrained=True)\n",
        "        # Modify the first convolutional layer to match the number of input channels\n",
        "        resnet.conv1 = nn.Conv2d(input_channels, 64, kernel_size=7, stride=2, padding=3, bias=False)\n",
        "        resnet.fc = nn.Sequential(\n",
        "            nn.Linear(resnet.fc.in_features, 128),\n",
        "            nn.ReLU(),\n",
        "            nn.Linear(128, 1)\n",
        "        )\n",
        "        self.resnet = resnet\n",
        "\n",
        "    def forward(self, x):\n",
        "        return self.resnet(x)\n"
      ],
      "metadata": {
        "id": "5Tqokox7qroC"
      },
      "execution_count": 22,
      "outputs": []
    },
    {
      "cell_type": "code",
      "source": [
        "# Parametri za denormalizaciju\n",
        "min_original_price = 79402.0705\n",
        "max_original_price = 1954899.0775"
      ],
      "metadata": {
        "id": "rh0X-_tAv9vM"
      },
      "execution_count": null,
      "outputs": []
    },
    {
      "cell_type": "code",
      "source": [
        "# Funkcija za denormalizaciju cene\n",
        "def denormalize_price(normalized_price, min_original_price, max_original_price):\n",
        "    return normalized_price * (max_original_price - min_original_price) + min_original_price"
      ],
      "metadata": {
        "id": "O_JO8SzuutEW"
      },
      "execution_count": 23,
      "outputs": []
    },
    {
      "cell_type": "code",
      "source": [
        "# Direktni link za preuzimanje\n",
        "google_drive_url = 'https://drive.google.com/uc?id=1JoAJGKQRB9itW5U_xkc-QGnkNMHb_0vu'\n",
        "\n",
        "# Preuzimanje modela sa Google Drive-a\n",
        "output_path = 'Price-Image-Predictor.pth'\n",
        "gdown.download(google_drive_url, output_path, quiet=False)\n",
        "\n",
        "# Učitavanje modela kao OrderedDict\n",
        "state_dict = torch.load(output_path)\n",
        "model = ResNetRegression()  # Zamijenite ResNetRegression sa stvarnom klasom vašeg modela\n",
        "model.load_state_dict(state_dict)\n",
        "model.eval()\n",
        "\n",
        "# Direktorijum u kojem se nalazi Jupyter notebook\n",
        "current_directory = os.getcwd()\n",
        "\n",
        "# Lista slika sa ekstenzijom .jpg u trenutnom direktorijumu\n",
        "image_paths = [f for f in os.listdir(current_directory) if f.endswith('.jpg')]\n",
        "\n",
        "\n",
        "# Iteriranje kroz listu slika\n",
        "for img_path in image_paths:\n",
        "    # Učitavanje i priprema slike\n",
        "    img = Image.open(img_path)\n",
        "    transform = transforms.Compose([\n",
        "        transforms.Resize((224, 224)),\n",
        "        transforms.ToTensor(),\n",
        "    ])\n",
        "    img_tensor = transform(img)\n",
        "    img_tensor = img_tensor.unsqueeze(0)\n",
        "\n",
        "    # Predviđanje cene\n",
        "    with torch.no_grad():\n",
        "        output = model(img_tensor)\n",
        "\n",
        "    # Normalizovana cena koju smo dobili iz modela\n",
        "    normalized_price = output.item()\n",
        "\n",
        "    # Denormalizacija\n",
        "    denormalized_price = denormalize_price(normalized_price, min_original_price, max_original_price)\n",
        "\n",
        "    # Ispis denormalizovane cene za svaku sliku\n",
        "    print(f\"Denormalizovana cena za {img_path}: {denormalized_price}\")"
      ],
      "metadata": {
        "colab": {
          "base_uri": "https://localhost:8080/"
        },
        "id": "_tx9HmiloMt4",
        "outputId": "3f1aaa9f-4b39-436d-acdc-8de1b98c2bda"
      },
      "execution_count": 24,
      "outputs": [
        {
          "output_type": "stream",
          "name": "stderr",
          "text": [
            "Downloading...\n",
            "From: https://drive.google.com/uc?id=1JoAJGKQRB9itW5U_xkc-QGnkNMHb_0vu\n",
            "To: /content/Price-Image-Predictor.pth\n",
            "100%|██████████| 95.4M/95.4M [00:01<00:00, 78.1MB/s]\n",
            "/usr/local/lib/python3.10/dist-packages/torchvision/models/_utils.py:208: UserWarning: The parameter 'pretrained' is deprecated since 0.13 and may be removed in the future, please use 'weights' instead.\n",
            "  warnings.warn(\n",
            "/usr/local/lib/python3.10/dist-packages/torchvision/models/_utils.py:223: UserWarning: Arguments other than a weight enum or `None` for 'weights' are deprecated since 0.13 and may be removed in the future. The current behavior is equivalent to passing `weights=ResNet50_Weights.IMAGENET1K_V1`. You can also use `weights=ResNet50_Weights.DEFAULT` to get the most up-to-date weights.\n",
            "  warnings.warn(msg)\n"
          ]
        },
        {
          "output_type": "stream",
          "name": "stdout",
          "text": [
            "Denormalizovana cena za 88013985_6d4b35d2a232c42fcc863317f22401c7-p_f.jpg: 330270.2926949668\n",
            "Denormalizovana cena za 70344594_3e29ab1c54a4a8ca80360911b9ac7434-p_f.jpg: 334088.6747282166\n",
            "Denormalizovana cena za 116080981_b15ecd54b82b93b6af1408beb22e069f-p_f.jpg: 334417.4162681321\n",
            "Denormalizovana cena za 185217484_1f06634bc9d5424bc0f094f68ca72fe4-p_f.jpg: 328412.14702584303\n",
            "Denormalizovana cena za 116080992_83c089e97b4e96ecb01c3555fa8252d0-p_f.jpg: 335303.5064887018\n"
          ]
        }
      ]
    }
  ]
}