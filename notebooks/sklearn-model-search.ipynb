{
 "cells": [
  {
   "cell_type": "code",
   "execution_count": 1,
   "id": "31b88ff4",
   "metadata": {},
   "outputs": [],
   "source": [
    "import pandas as pd\n",
    "import numpy as np\n",
    "import sklearn\n",
    "\n",
    "from sklearn import metrics\n",
    "from sklearn.model_selection import KFold, StratifiedKFold, cross_val_score\n",
    "from sklearn.pipeline import make_pipeline\n",
    "from sklearn.compose import make_column_transformer, make_column_selector, TransformedTargetRegressor\n",
    "from sklearn.preprocessing import StandardScaler, OneHotEncoder, OrdinalEncoder, PowerTransformer, FunctionTransformer\n",
    "from sklearn.linear_model import LinearRegression, Ridge, Lasso\n",
    "from sklearn.dummy import DummyRegressor\n",
    "from sklearn.ensemble import RandomForestRegressor\n",
    "from sklearn.svm import SVR\n",
    "import xgboost\n",
    "\n",
    "from sklearn.model_selection import GridSearchCV"
   ]
  },
  {
   "cell_type": "code",
   "execution_count": 26,
   "id": "2c79cf6a",
   "metadata": {},
   "outputs": [],
   "source": [
    "df = pd.read_csv('./AustinHousingData_Preprocessed.csv')\n",
    "feature_blacklist = [\n",
    "    # Maybe usable with extra preprocessing\n",
    "    'streetAddress', \n",
    "    # Not applicable for price regression?\n",
    "    'description', 'homeImage', \n",
    "    # Not necessary after adjusted price?\n",
    "    'latestPriceSource', 'latest_saledate', 'latest_salemonth', 'latest_saleyear',\n",
    "    # Leak prevention\n",
    "    'orig_price', 'propertyTaxRate', 'numPriceChanges', 'zip_rank', 'median_zip', 'pr_sqft',\n",
    "    # Always austin\n",
    "    'city',\n",
    "]\n",
    "X = df.drop(feature_blacklist, axis=1)\n",
    "y = X.pop('price')"
   ]
  },
  {
   "cell_type": "code",
   "execution_count": 93,
   "id": "3f40ab85",
   "metadata": {},
   "outputs": [
    {
     "data": {
      "text/plain": [
       "zipcode                       int64\n",
       "latitude                    float64\n",
       "longitude                   float64\n",
       "garageSpaces                  int64\n",
       "hasAssociation                int64\n",
       "hasCooling                    int64\n",
       "hasGarage                     int64\n",
       "hasHeating                    int64\n",
       "hasSpa                        int64\n",
       "hasView                       int64\n",
       "homeType                     object\n",
       "parkingSpaces                 int64\n",
       "yearBuilt                     int64\n",
       "numOfPhotos                   int64\n",
       "accessibility                 int64\n",
       "numOfAppliances               int64\n",
       "numOfParkingFeatures          int64\n",
       "patioporch                    int64\n",
       "security                      int64\n",
       "waterfront                    int64\n",
       "windowfeatures                int64\n",
       "community                     int64\n",
       "lotSizeSqFt                 float64\n",
       "livingAreaSqFt              float64\n",
       "numOfPrimarySchools           int64\n",
       "numOfElementarySchools        int64\n",
       "numOfMiddleSchools            int64\n",
       "numOfHighSchools              int64\n",
       "avgSchoolDistance           float64\n",
       "avgSchoolRating             float64\n",
       "avgSchoolSize                 int64\n",
       "MedianStudentsPerTeacher      int64\n",
       "numOfBathrooms              float64\n",
       "numOfBedrooms                 int64\n",
       "numOfStories                  int64\n",
       "dtype: object"
      ]
     },
     "execution_count": 93,
     "metadata": {},
     "output_type": "execute_result"
    }
   ],
   "source": [
    "X.dtypes"
   ]
  },
  {
   "cell_type": "code",
   "execution_count": 85,
   "id": "031360c4",
   "metadata": {},
   "outputs": [],
   "source": [
    "# Worked well, but that was with the leaking parameters\n",
    "LogExpTransformer = lambda: FunctionTransformer(func=np.log, inverse_func=np.exp)\n",
    "OneHotEncoderInit = lambda: OneHotEncoder(handle_unknown='ignore')\n",
    "\n",
    "def wrap_model(model, transformer=StandardScaler, encoder=OneHotEncoderInit):\n",
    "    preprocessing = make_column_transformer(\n",
    "        (\n",
    "            StandardScaler(), \n",
    "            make_column_selector(dtype_include=np.number)\n",
    "        ),\n",
    "        (\n",
    "            encoder(), \n",
    "            make_column_selector(dtype_include=object)\n",
    "        ),\n",
    "    )\n",
    "    \n",
    "    pipeline = make_pipeline(preprocessing, model)\n",
    "    transformer_obj = transformer()\n",
    "    pipeline = TransformedTargetRegressor(regressor=pipeline,\n",
    "                                          transformer=transformer_obj)\n",
    "    return pipeline\n",
    "\n",
    "def test_model(model, X, y, preprocess=True, metric='neg_mean_absolute_error', splits=5, transformer=StandardScaler, encoder=OneHotEncoderInit):\n",
    "    # If no preprocessing, just use model\n",
    "    pipeline = model\n",
    "    if preprocess:\n",
    "        pipeline = wrap_model(model, transformer, encoder)\n",
    "        \n",
    "    # K-fold cross-validation (Maybe try stratified?)\n",
    "    kf = KFold(n_splits=splits, shuffle=True, random_state=0)\n",
    "    cv_results = cross_val_score(\n",
    "        pipeline,\n",
    "        X,\n",
    "        y,\n",
    "        cv=kf,\n",
    "        scoring=metric,\n",
    "        n_jobs=-1)\n",
    "    \n",
    "    return cv_results\n",
    "\n",
    "def test_models(models, X, y, metric='neg_mean_absolute_error', splits=5, transformer=StandardScaler, encoder=OneHotEncoderInit):\n",
    "    for model in models:\n",
    "        result = -test_model(model, X, y, metric=metric, transformer=transformer).mean()\n",
    "        print(f'{model}: {result}')"
   ]
  },
  {
   "cell_type": "code",
   "execution_count": 36,
   "id": "f485bb8c",
   "metadata": {},
   "outputs": [
    {
     "name": "stdout",
     "output_type": "stream",
     "text": [
      "DummyRegressor(): 156061.51981158793\n",
      "LinearRegression(): 104640.48366271799\n",
      "Ridge(): 104635.89337734645\n",
      "Lasso(): 156061.51981158793\n",
      "RandomForestRegressor(random_state=42): 64440.46016183711\n",
      "XGBRegressor(base_score=None, booster=None, callbacks=None,\n",
      "             colsample_bylevel=None, colsample_bynode=None,\n",
      "             colsample_bytree=None, device=None, early_stopping_rounds=None,\n",
      "             enable_categorical=False, eval_metric=None, feature_types=None,\n",
      "             gamma=None, grow_policy=None, importance_type=None,\n",
      "             interaction_constraints=None, learning_rate=None, max_bin=None,\n",
      "             max_cat_threshold=None, max_cat_to_onehot=None,\n",
      "             max_delta_step=None, max_depth=None, max_leaves=None,\n",
      "             min_child_weight=None, missing=nan, monotone_constraints=None,\n",
      "             multi_strategy=None, n_estimators=None, n_jobs=None,\n",
      "             num_parallel_tree=None, random_state=42, ...): 64890.92482869577\n",
      "SVR(): 69432.01803074928\n"
     ]
    }
   ],
   "source": [
    "# Baselines\n",
    "models = [\n",
    "    # Dummy\n",
    "    DummyRegressor(strategy='mean'),\n",
    "    # Linear\n",
    "    LinearRegression(),\n",
    "    Ridge(),\n",
    "    Lasso(),\n",
    "    # Decision tree\n",
    "    RandomForestRegressor(random_state=42),\n",
    "    xgboost.XGBRegressor(random_state=42),\n",
    "    # SVM\n",
    "    SVR(),\n",
    "]\n",
    "\n",
    "test_models(models, X, y)"
   ]
  },
  {
   "cell_type": "code",
   "execution_count": 33,
   "id": "7f211a81",
   "metadata": {},
   "outputs": [
    {
     "name": "stdout",
     "output_type": "stream",
     "text": [
      "DummyRegressor(): 149492.03770853623\n",
      "LinearRegression(): 96950.77654329439\n",
      "Ridge(): 96951.18522630286\n",
      "Lasso(): 149492.03770853623\n",
      "RandomForestRegressor(random_state=42): 66421.03615859227\n",
      "XGBRegressor(base_score=None, booster=None, callbacks=None,\n",
      "             colsample_bylevel=None, colsample_bynode=None,\n",
      "             colsample_bytree=None, device=None, early_stopping_rounds=None,\n",
      "             enable_categorical=False, eval_metric=None, feature_types=None,\n",
      "             gamma=None, grow_policy=None, importance_type=None,\n",
      "             interaction_constraints=None, learning_rate=None, max_bin=None,\n",
      "             max_cat_threshold=None, max_cat_to_onehot=None,\n",
      "             max_delta_step=None, max_depth=None, max_leaves=None,\n",
      "             min_child_weight=None, missing=nan, monotone_constraints=None,\n",
      "             multi_strategy=None, n_estimators=None, n_jobs=None,\n",
      "             num_parallel_tree=None, random_state=42, ...): 66162.34344310875\n",
      "SVR(): 68706.72079765055\n"
     ]
    }
   ],
   "source": [
    "# Baselines\n",
    "models = [\n",
    "    # Dummy\n",
    "    DummyRegressor(strategy='mean'),\n",
    "    # Linear\n",
    "    LinearRegression(),\n",
    "    Ridge(),\n",
    "    Lasso(),\n",
    "    # Decision tree\n",
    "    RandomForestRegressor(random_state=42),\n",
    "    xgboost.XGBRegressor(random_state=42),\n",
    "    # SVM\n",
    "    SVR(),\n",
    "]\n",
    "\n",
    "test_models(models, X, y, transformer=LogExpTransformer)"
   ]
  },
  {
   "cell_type": "code",
   "execution_count": 37,
   "id": "79503e05",
   "metadata": {},
   "outputs": [
    {
     "name": "stdout",
     "output_type": "stream",
     "text": [
      "DummyRegressor(): 149247.71078334423\n",
      "LinearRegression(): 97526.15358223366\n",
      "Ridge(): 97526.1492574012\n",
      "Lasso(): 149247.71078334423\n",
      "RandomForestRegressor(random_state=42): 67034.07003731855\n",
      "XGBRegressor(base_score=None, booster=None, callbacks=None,\n",
      "             colsample_bylevel=None, colsample_bynode=None,\n",
      "             colsample_bytree=None, device=None, early_stopping_rounds=None,\n",
      "             enable_categorical=False, eval_metric=None, feature_types=None,\n",
      "             gamma=None, grow_policy=None, importance_type=None,\n",
      "             interaction_constraints=None, learning_rate=None, max_bin=None,\n",
      "             max_cat_threshold=None, max_cat_to_onehot=None,\n",
      "             max_delta_step=None, max_depth=None, max_leaves=None,\n",
      "             min_child_weight=None, missing=nan, monotone_constraints=None,\n",
      "             multi_strategy=None, n_estimators=None, n_jobs=None,\n",
      "             num_parallel_tree=None, random_state=42, ...): 66692.31882481751\n",
      "SVR(): 68440.83721094967\n"
     ]
    }
   ],
   "source": [
    "# Baselines\n",
    "models = [\n",
    "    # Dummy\n",
    "    DummyRegressor(strategy='mean'),\n",
    "    # Linear\n",
    "    LinearRegression(),\n",
    "    Ridge(),\n",
    "    Lasso(),\n",
    "    # Decision tree\n",
    "    RandomForestRegressor(random_state=42),\n",
    "    xgboost.XGBRegressor(random_state=42),\n",
    "    # SVM\n",
    "    SVR(),\n",
    "]\n",
    "\n",
    "test_models(models, X, y, transformer=PowerTransformer)"
   ]
  },
  {
   "cell_type": "markdown",
   "id": "b536580a",
   "metadata": {},
   "source": [
    "## XGBoost"
   ]
  },
  {
   "cell_type": "code",
   "execution_count": 39,
   "id": "812a6a19",
   "metadata": {
    "scrolled": false
   },
   "outputs": [
    {
     "name": "stdout",
     "output_type": "stream",
     "text": [
      "XGBRegressor(base_score=None, booster=None, callbacks=None,\n",
      "             colsample_bylevel=None, colsample_bynode=None,\n",
      "             colsample_bytree=None, device=None, early_stopping_rounds=None,\n",
      "             enable_categorical=False, eval_metric=None, feature_types=None,\n",
      "             gamma=None, grow_policy=None, importance_type=None,\n",
      "             interaction_constraints=None, learning_rate=None, max_bin=None,\n",
      "             max_cat_threshold=None, max_cat_to_onehot=None,\n",
      "             max_delta_step=None, max_depth=10, max_leaves=None,\n",
      "             min_child_weight=None, missing=nan, monotone_constraints=None,\n",
      "             multi_strategy=None, n_estimators=100, n_jobs=None,\n",
      "             num_parallel_tree=None, random_state=None, ...): 67313.68503359535\n",
      "XGBRegressor(base_score=None, booster=None, callbacks=None,\n",
      "             colsample_bylevel=None, colsample_bynode=None,\n",
      "             colsample_bytree=None, device=None, early_stopping_rounds=None,\n",
      "             enable_categorical=False, eval_metric=None, feature_types=None,\n",
      "             gamma=None, grow_policy=None, importance_type=None,\n",
      "             interaction_constraints=None, learning_rate=None, max_bin=None,\n",
      "             max_cat_threshold=None, max_cat_to_onehot=None,\n",
      "             max_delta_step=None, max_depth=15, max_leaves=None,\n",
      "             min_child_weight=None, missing=nan, monotone_constraints=None,\n",
      "             multi_strategy=None, n_estimators=200, n_jobs=None,\n",
      "             num_parallel_tree=None, random_state=None, ...): 70398.21825718737\n",
      "XGBRegressor(base_score=None, booster=None, callbacks=None,\n",
      "             colsample_bylevel=None, colsample_bynode=None,\n",
      "             colsample_bytree=None, device=None, early_stopping_rounds=None,\n",
      "             enable_categorical=False, eval_metric=None, feature_types=None,\n",
      "             gamma=None, grow_policy=None, importance_type=None,\n",
      "             interaction_constraints=None, learning_rate=None, max_bin=None,\n",
      "             max_cat_threshold=None, max_cat_to_onehot=None,\n",
      "             max_delta_step=None, max_depth=5, max_leaves=None,\n",
      "             min_child_weight=None, missing=nan, monotone_constraints=None,\n",
      "             multi_strategy=None, n_estimators=100, n_jobs=None,\n",
      "             num_parallel_tree=None, random_state=None, ...): 64653.13561827825\n",
      "XGBRegressor(base_score=None, booster=None, callbacks=None,\n",
      "             colsample_bylevel=None, colsample_bynode=None,\n",
      "             colsample_bytree=None, device=None, early_stopping_rounds=None,\n",
      "             enable_categorical=False, eval_metric=None, feature_types=None,\n",
      "             gamma=None, grow_policy=None, importance_type=None,\n",
      "             interaction_constraints=None, learning_rate=0.01, max_bin=None,\n",
      "             max_cat_threshold=None, max_cat_to_onehot=None,\n",
      "             max_delta_step=None, max_depth=10, max_leaves=None,\n",
      "             min_child_weight=None, missing=nan, monotone_constraints=None,\n",
      "             multi_strategy=None, n_estimators=100, n_jobs=None,\n",
      "             num_parallel_tree=None, random_state=None, ...): 88614.5286760766\n",
      "XGBRegressor(base_score=None, booster=None, callbacks=None,\n",
      "             colsample_bylevel=None, colsample_bynode=None,\n",
      "             colsample_bytree=None, device=None, early_stopping_rounds=None,\n",
      "             enable_categorical=False, eval_metric=None, feature_types=None,\n",
      "             gamma=None, grow_policy=None, importance_type=None,\n",
      "             interaction_constraints=None, learning_rate=0.2, max_bin=None,\n",
      "             max_cat_threshold=None, max_cat_to_onehot=None,\n",
      "             max_delta_step=None, max_depth=10, max_leaves=None,\n",
      "             min_child_weight=None, missing=nan, monotone_constraints=None,\n",
      "             multi_strategy=None, n_estimators=100, n_jobs=None,\n",
      "             num_parallel_tree=None, random_state=None, ...): 65538.9976703215\n",
      "XGBRegressor(base_score=None, booster=None, callbacks=None,\n",
      "             colsample_bylevel=None, colsample_bynode=None,\n",
      "             colsample_bytree=None, device=None, early_stopping_rounds=None,\n",
      "             enable_categorical=False, eval_metric='mae', feature_types=None,\n",
      "             gamma=None, grow_policy=None, importance_type=None,\n",
      "             interaction_constraints=None, learning_rate=0.2, max_bin=None,\n",
      "             max_cat_threshold=None, max_cat_to_onehot=None,\n",
      "             max_delta_step=None, max_depth=None, max_leaves=None,\n",
      "             min_child_weight=None, missing=nan, monotone_constraints=None,\n",
      "             multi_strategy=None, n_estimators=None, n_jobs=None,\n",
      "             num_parallel_tree=None, random_state=None, ...): 63142.342265326064\n",
      "XGBRegressor(base_score=None, booster=None, callbacks=None,\n",
      "             colsample_bylevel=None, colsample_bynode=None,\n",
      "             colsample_bytree=None, device=None, early_stopping_rounds=None,\n",
      "             enable_categorical=False, eval_metric='mae', feature_types=None,\n",
      "             gamma=None, grow_policy=None, importance_type=None,\n",
      "             interaction_constraints=None, learning_rate=0.2, max_bin=None,\n",
      "             max_cat_threshold=None, max_cat_to_onehot=None,\n",
      "             max_delta_step=None, max_depth=10, max_leaves=None,\n",
      "             min_child_weight=None, missing=nan, monotone_constraints=None,\n",
      "             multi_strategy=None, n_estimators=100, n_jobs=None,\n",
      "             num_parallel_tree=None, random_state=None, ...): 65538.9976703215\n",
      "XGBRegressor(base_score=None, booster=None, callbacks=None,\n",
      "             colsample_bylevel=None, colsample_bynode=None,\n",
      "             colsample_bytree=None, device=None, early_stopping_rounds=None,\n",
      "             enable_categorical=False, eval_metric='mae', feature_types=None,\n",
      "             gamma=None, grow_policy=None, importance_type=None,\n",
      "             interaction_constraints=None, learning_rate=0.1, max_bin=None,\n",
      "             max_cat_threshold=None, max_cat_to_onehot=None,\n",
      "             max_delta_step=None, max_depth=10, max_leaves=None,\n",
      "             min_child_weight=None, missing=nan, monotone_constraints=None,\n",
      "             multi_strategy=None, n_estimators=100, n_jobs=None,\n",
      "             num_parallel_tree=None, random_state=None, ...): 63871.31461767697\n",
      "XGBRegressor(base_score=None, booster=None, callbacks=None,\n",
      "             colsample_bylevel=None, colsample_bynode=None,\n",
      "             colsample_bytree=None, device=None, early_stopping_rounds=None,\n",
      "             enable_categorical=False, eval_metric='mae', feature_types=None,\n",
      "             gamma=None, grow_policy=None, importance_type=None,\n",
      "             interaction_constraints=None, learning_rate=0.08, max_bin=None,\n",
      "             max_cat_threshold=None, max_cat_to_onehot=None,\n",
      "             max_delta_step=None, max_depth=10, max_leaves=None,\n",
      "             min_child_weight=None, missing=nan, monotone_constraints=None,\n",
      "             multi_strategy=None, n_estimators=100, n_jobs=None,\n",
      "             num_parallel_tree=None, random_state=None, ...): 63712.17144495631\n",
      "XGBRegressor(base_score=None, booster=None, callbacks=None,\n",
      "             colsample_bylevel=None, colsample_bynode=None,\n",
      "             colsample_bytree=None, device=None, early_stopping_rounds=None,\n",
      "             enable_categorical=False, eval_metric='mae', feature_types=None,\n",
      "             gamma=None, grow_policy=None, importance_type=None,\n",
      "             interaction_constraints=None, learning_rate=0.08, max_bin=None,\n",
      "             max_cat_threshold=None, max_cat_to_onehot=None,\n",
      "             max_delta_step=None, max_depth=10, max_leaves=None,\n",
      "             min_child_weight=None, missing=nan, monotone_constraints=None,\n",
      "             multi_strategy=None, n_estimators=100, n_jobs=None,\n",
      "             num_parallel_tree=None, random_state=None, ...): 63003.796407587324\n",
      "XGBRegressor(base_score=None, booster=None, callbacks=None,\n",
      "             colsample_bylevel=None, colsample_bynode=None,\n",
      "             colsample_bytree=None, device=None, early_stopping_rounds=None,\n",
      "             enable_categorical=False, eval_metric='mae', feature_types=None,\n",
      "             gamma=None, grow_policy=None, importance_type=None,\n",
      "             interaction_constraints=None, learning_rate=0.08, max_bin=None,\n",
      "             max_cat_threshold=None, max_cat_to_onehot=None,\n",
      "             max_delta_step=None, max_depth=10, max_leaves=None,\n",
      "             min_child_weight=None, missing=nan, monotone_constraints=None,\n",
      "             multi_strategy=None, n_estimators=200, n_jobs=None,\n",
      "             num_parallel_tree=None, random_state=None, ...): 63648.76085569252\n"
     ]
    }
   ],
   "source": [
    "# XGBoost\n",
    "models = [\n",
    "    xgboost.XGBRegressor(n_estimators=100, max_depth=10),\n",
    "    xgboost.XGBRegressor(n_estimators=200, max_depth=15),\n",
    "    xgboost.XGBRegressor(n_estimators=100, max_depth=5),\n",
    "    xgboost.XGBRegressor(n_estimators=100, max_depth=10, learning_rate=0.01),\n",
    "    xgboost.XGBRegressor(n_estimators=100, max_depth=10, learning_rate=0.2),\n",
    "    xgboost.XGBRegressor(learning_rate=0.2, eval_metric='mae'),\n",
    "    xgboost.XGBRegressor(n_estimators=100, max_depth=10, learning_rate=0.2, eval_metric='mae'),\n",
    "    xgboost.XGBRegressor(n_estimators=100, max_depth=10, learning_rate=0.1, eval_metric='mae'),\n",
    "    xgboost.XGBRegressor(n_estimators=100, max_depth=10, learning_rate=0.08, eval_metric='mae'),\n",
    "    xgboost.XGBRegressor(n_estimators=100, max_depth=10, learning_rate=0.08, eval_metric='mae', subsample=0.5),\n",
    "    xgboost.XGBRegressor(n_estimators=200, max_depth=10, learning_rate=0.08, eval_metric='mae', subsample=0.5),\n",
    "]\n",
    "\n",
    "test_models(models, X, y)"
   ]
  },
  {
   "cell_type": "code",
   "execution_count": null,
   "id": "a204bdc8",
   "metadata": {},
   "outputs": [],
   "source": [
    "parameters = {\n",
    "    'regressor__xgbregressor__max_depth': range(2, 15, 2),\n",
    "    'regressor__xgbregressor__n_estimators': range(50, 250, 50),\n",
    "    'regressor__xgbregressor__learning_rate': np.arange(0.05, 0.2, 0.05),\n",
    "    'regressor__xgbregressor__subsample': np.arange(0.5, 1, 0.1)\n",
    "}\n",
    "grid_search = GridSearchCV(\n",
    "    estimator=wrap_model(xgboost.XGBRegressor(seed=0)),\n",
    "    param_grid=parameters,\n",
    "    scoring = 'neg_mean_absolute_error',\n",
    "    cv = 4,\n",
    "    n_jobs=-1,\n",
    "    verbose=True\n",
    ")\n",
    "grid_search.fit(X,y)"
   ]
  },
  {
   "cell_type": "code",
   "execution_count": 42,
   "id": "9a04ab25",
   "metadata": {
    "scrolled": false
   },
   "outputs": [
    {
     "name": "stdout",
     "output_type": "stream",
     "text": [
      "-72927.96953732331\n"
     ]
    },
    {
     "data": {
      "text/plain": [
       "{'regressor__xgbregressor__learning_rate': 0.1,\n",
       " 'regressor__xgbregressor__max_depth': 6,\n",
       " 'regressor__xgbregressor__n_estimators': 150,\n",
       " 'regressor__xgbregressor__subsample': 0.7}"
      ]
     },
     "execution_count": 42,
     "metadata": {},
     "output_type": "execute_result"
    }
   ],
   "source": [
    "print(grid_search.best_score_)\n",
    "grid_search.best_params_\n",
    "# TODO: Look into more parameters?"
   ]
  },
  {
   "cell_type": "markdown",
   "id": "5bb80d05",
   "metadata": {},
   "source": [
    "## Random Forest"
   ]
  },
  {
   "cell_type": "code",
   "execution_count": null,
   "id": "d13a02d8",
   "metadata": {
    "scrolled": true
   },
   "outputs": [],
   "source": [
    "params = {\n",
    "    'regressor__randomforestregressor__bootstrap': [True, False],\n",
    "    'regressor__randomforestregressor__max_depth': list(range(5,25,10))+[None],\n",
    "    'regressor__randomforestregressor__max_features': [1, 'sqrt', 'log2'],\n",
    "    'regressor__randomforestregressor__min_samples_leaf': [1, 2, 4],\n",
    "    'regressor__randomforestregressor__min_samples_split': [2, 5, 10],\n",
    "    'regressor__randomforestregressor__n_estimators': range(100, 700, 200)\n",
    "}\n",
    "\n",
    "grid_search = GridSearchCV(\n",
    "    estimator=wrap_model(RandomForestRegressor(random_state=0)),\n",
    "    param_grid=params,\n",
    "    scoring = 'neg_mean_absolute_error',\n",
    "    cv = 4,\n",
    "    n_jobs=-1,\n",
    "    verbose=True\n",
    ")\n",
    "grid_search.fit(X,y)\n"
   ]
  },
  {
   "cell_type": "code",
   "execution_count": 44,
   "id": "2bb34d1c",
   "metadata": {
    "scrolled": true
   },
   "outputs": [
    {
     "name": "stdout",
     "output_type": "stream",
     "text": [
      "-75699.39245206534\n"
     ]
    },
    {
     "data": {
      "text/plain": [
       "{'regressor__randomforestregressor__bootstrap': False,\n",
       " 'regressor__randomforestregressor__max_depth': None,\n",
       " 'regressor__randomforestregressor__max_features': 'sqrt',\n",
       " 'regressor__randomforestregressor__min_samples_leaf': 1,\n",
       " 'regressor__randomforestregressor__min_samples_split': 2,\n",
       " 'regressor__randomforestregressor__n_estimators': 500}"
      ]
     },
     "execution_count": 44,
     "metadata": {},
     "output_type": "execute_result"
    }
   ],
   "source": [
    "print(grid_search.best_score_)\n",
    "grid_search.best_params_\n",
    "\n",
    "# Mostly default values, except bootstrap=False and n_estimators=500"
   ]
  },
  {
   "cell_type": "code",
   "execution_count": 45,
   "id": "5c90efaf",
   "metadata": {},
   "outputs": [
    {
     "name": "stdout",
     "output_type": "stream",
     "text": [
      "RandomForestRegressor(): 64542.45158221328\n",
      "RandomForestRegressor(max_depth=10): 68106.92435363178\n",
      "RandomForestRegressor(n_estimators=500): 64207.50117775381\n",
      "RandomForestRegressor(bootstrap=False): 89372.07183112312\n",
      "RandomForestRegressor(bootstrap=False, n_estimators=500): 89310.65708912213\n"
     ]
    }
   ],
   "source": [
    "# Manual checks\n",
    "models = [\n",
    "    RandomForestRegressor(n_estimators=100),\n",
    "    RandomForestRegressor(n_estimators=100, max_depth=10),\n",
    "    RandomForestRegressor(n_estimators=500),\n",
    "    RandomForestRegressor(n_estimators=100, bootstrap=False),\n",
    "    RandomForestRegressor(n_estimators=500, bootstrap=False),\n",
    "]\n",
    "\n",
    "test_models(models, X, y)\n",
    "\n",
    "# Bootstrap=False gives way worse results, n_estimators=500 doesn't change much"
   ]
  },
  {
   "cell_type": "code",
   "execution_count": 46,
   "id": "f1225da9",
   "metadata": {},
   "outputs": [
    {
     "name": "stdout",
     "output_type": "stream",
     "text": [
      "RandomForestRegressor(n_estimators=400): 64387.82788319059\n",
      "RandomForestRegressor(n_estimators=500): 64276.0654767631\n",
      "RandomForestRegressor(n_estimators=600): 64222.04162405124\n",
      "RandomForestRegressor(n_estimators=1000): 64254.52432699746\n"
     ]
    }
   ],
   "source": [
    "models = [\n",
    "    RandomForestRegressor(n_estimators=400),\n",
    "    RandomForestRegressor(n_estimators=500),\n",
    "    RandomForestRegressor(n_estimators=600),\n",
    "    RandomForestRegressor(n_estimators=1000),\n",
    "]\n",
    "\n",
    "test_models(models, X, y)"
   ]
  },
  {
   "cell_type": "markdown",
   "id": "4a562142",
   "metadata": {},
   "source": [
    "## SVR"
   ]
  },
  {
   "cell_type": "code",
   "execution_count": 47,
   "id": "a7195a16",
   "metadata": {
    "scrolled": true
   },
   "outputs": [
    {
     "name": "stdout",
     "output_type": "stream",
     "text": [
      "SVR(): 69432.01803074928\n",
      "SVR(kernel='linear'): 99335.80035322995\n",
      "SVR(kernel='poly'): 76794.9312477439\n",
      "SVR(kernel='sigmoid'): 3210465.8172194357\n"
     ]
    }
   ],
   "source": [
    "# SVR different kernels\n",
    "models = [\n",
    "    SVR(kernel='rbf'),\n",
    "    SVR(kernel='linear'),\n",
    "    SVR(kernel='poly'),\n",
    "    SVR(kernel='sigmoid'),\n",
    "]\n",
    "\n",
    "test_models(models, X, y)\n",
    "\n",
    "# Pretty bad results, maybe with better tuning"
   ]
  },
  {
   "cell_type": "code",
   "execution_count": 48,
   "id": "33876505",
   "metadata": {},
   "outputs": [
    {
     "name": "stdout",
     "output_type": "stream",
     "text": [
      "SVR(epsilon=0.001): 69381.1654947454\n",
      "SVR(epsilon=0.01): 69336.23443968405\n",
      "SVR(): 69432.01803074928\n"
     ]
    }
   ],
   "source": [
    "# SVR different epsilon values\n",
    "models = [\n",
    "    SVR(epsilon=0.001),\n",
    "    SVR(epsilon=0.01),\n",
    "    SVR(epsilon=0.1),\n",
    "]\n",
    "\n",
    "test_models(models, X, y)"
   ]
  },
  {
   "cell_type": "code",
   "execution_count": null,
   "id": "8d2ab43a",
   "metadata": {},
   "outputs": [],
   "source": [
    "params = {\n",
    "    'regressor__svr__epsilon': [0.001, 0.01],\n",
    "    'regressor__svr__C': [0.25, 0.5, 1],\n",
    "    'regressor__svr__kernel': ['rbf', 'linear', 'poly'],\n",
    "}\n",
    "\n",
    "grid_search = GridSearchCV(\n",
    "    estimator=wrap_model(SVR()),\n",
    "    param_grid=params,\n",
    "    scoring = 'neg_mean_absolute_error',\n",
    "    cv = 3,\n",
    "    n_jobs=-1,\n",
    "    verbose=2\n",
    ")\n",
    "grid_search.fit(X,y)"
   ]
  },
  {
   "cell_type": "code",
   "execution_count": 51,
   "id": "c9219ab6",
   "metadata": {},
   "outputs": [
    {
     "name": "stdout",
     "output_type": "stream",
     "text": [
      "-82365.74458682409\n"
     ]
    },
    {
     "data": {
      "text/plain": [
       "{'regressor__svr__C': 1,\n",
       " 'regressor__svr__epsilon': 0.01,\n",
       " 'regressor__svr__kernel': 'rbf'}"
      ]
     },
     "execution_count": 51,
     "metadata": {},
     "output_type": "execute_result"
    }
   ],
   "source": [
    "print(grid_search.best_score_)\n",
    "grid_search.best_params_\n",
    "# Grid search hasn't found anything better"
   ]
  },
  {
   "cell_type": "markdown",
   "id": "943a6043",
   "metadata": {},
   "source": [
    "## Final check & save"
   ]
  },
  {
   "cell_type": "code",
   "execution_count": 95,
   "id": "a8f20abc",
   "metadata": {},
   "outputs": [
    {
     "name": "stdout",
     "output_type": "stream",
     "text": [
      "-101930.56626671125\n",
      "-62376.78766577033\n"
     ]
    }
   ],
   "source": [
    "best = xgboost.XGBRegressor(n_estimators=150, \n",
    "                            max_depth=6, \n",
    "                            learning_rate=0.08, \n",
    "                            eval_metric='mae', \n",
    "                            subsample=0.7)\n",
    "print(test_model(best, X, y, metric='neg_root_mean_squared_error', encoder=OrdinalEncoder).mean())\n",
    "print(test_model(best, X, y, metric='neg_mean_absolute_error', encoder=OrdinalEncoder).mean())"
   ]
  },
  {
   "cell_type": "code",
   "execution_count": 99,
   "id": "f0262ac6",
   "metadata": {},
   "outputs": [
    {
     "data": {
      "text/plain": [
       "['model.pkl']"
      ]
     },
     "execution_count": 99,
     "metadata": {},
     "output_type": "execute_result"
    }
   ],
   "source": [
    "import joblib\n",
    "best_wrapped = wrap_model(best)\n",
    "best_wrapped.fit(X, y)\n",
    "joblib.dump(best_wrapped, \"model.pkl\")"
   ]
  }
 ],
 "metadata": {
  "kernelspec": {
   "display_name": "Python 3 (ipykernel)",
   "language": "python",
   "name": "python3"
  },
  "language_info": {
   "codemirror_mode": {
    "name": "ipython",
    "version": 3
   },
   "file_extension": ".py",
   "mimetype": "text/x-python",
   "name": "python",
   "nbconvert_exporter": "python",
   "pygments_lexer": "ipython3",
   "version": "3.8.10"
  }
 },
 "nbformat": 4,
 "nbformat_minor": 5
}
