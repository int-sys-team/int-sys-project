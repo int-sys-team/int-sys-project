{
 "cells": [
  {
   "cell_type": "code",
   "execution_count": null,
   "id": "f9df2afb",
   "metadata": {},
   "outputs": [],
   "source": [
    "import pandas as pd\n",
    "import shutil\n",
    "import pathlib\n",
    "import os, sys\n",
    "import PIL\n",
    "from PIL import Image, ImageFile\n",
    "\n",
    "ImageFile.LOAD_TRUNCATED_IMAGES = True"
   ]
  },
  {
   "cell_type": "code",
   "execution_count": null,
   "id": "363fd1de",
   "metadata": {},
   "outputs": [],
   "source": [
    "df = pd.read_csv('./AustinHousingData_Preprocessed.csv')\n",
    "df[['homeImage', 'price']]"
   ]
  },
  {
   "cell_type": "code",
   "execution_count": null,
   "id": "d947e5ed",
   "metadata": {},
   "outputs": [],
   "source": [
    "input_dir = pathlib.Path('homeImages')\n",
    "output_dir = pathlib.Path('homeImagesProcessed')"
   ]
  },
  {
   "cell_type": "code",
   "execution_count": null,
   "id": "b25f4c1d",
   "metadata": {},
   "outputs": [],
   "source": [
    "# Just ids\n",
    "for i,row in df['homeImage'].items():\n",
    "    shutil.copy(input_dir / row, output_dir / f'{i}.jpg')\n",
    "    #print(i)"
   ]
  },
  {
   "cell_type": "code",
   "execution_count": null,
   "id": "876bed2f",
   "metadata": {},
   "outputs": [],
   "source": [
    "size = 128, 128\n",
    "\n",
    "# Id and resize\n",
    "for i,input_img in df['homeImage'].items():\n",
    "    input_path = input_dir / input_img\n",
    "    output_path = output_dir / f'{i}.jpg'\n",
    "    img = Image.open(input_path)\n",
    "    resized = img.resize(size, Image.Resampling.LANCZOS)\n",
    "    resized.save(output_path, \"JPEG\")\n",
    "    #print(i)"
   ]
  }
 ],
 "metadata": {
  "kernelspec": {
   "display_name": "Python 3 (ipykernel)",
   "language": "python",
   "name": "python3"
  },
  "language_info": {
   "codemirror_mode": {
    "name": "ipython",
    "version": 3
   },
   "file_extension": ".py",
   "mimetype": "text/x-python",
   "name": "python",
   "nbconvert_exporter": "python",
   "pygments_lexer": "ipython3",
   "version": "3.8.10"
  }
 },
 "nbformat": 4,
 "nbformat_minor": 5
}
